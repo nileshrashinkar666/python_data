{
 "cells": [
  {
   "cell_type": "code",
   "execution_count": 3,
   "id": "ec745475",
   "metadata": {},
   "outputs": [
    {
     "name": "stdout",
     "output_type": "stream",
     "text": [
      "23\n",
      "25\n",
      "35\n"
     ]
    }
   ],
   "source": [
    "fruits = [23, 25, 35]\n",
    "\n",
    "(green, yellow, red) = fruits\n",
    "print(green)\n",
    "print(yellow)\n",
    "print(red)"
   ]
  },
  {
   "cell_type": "code",
   "execution_count": 10,
   "id": "b15391c0",
   "metadata": {},
   "outputs": [
    {
     "name": "stdout",
     "output_type": "stream",
     "text": [
      "(('apple', 'banana', 'cherry'), (12, 23, 3))\n"
     ]
    }
   ],
   "source": [
    "my_tuple1 = ('apple','banana','cherry'), (12,23,3)\n",
    "\n",
    "print (my_tuple1)\n"
   ]
  },
  {
   "cell_type": "code",
   "execution_count": 12,
   "id": "c09f4e18",
   "metadata": {},
   "outputs": [
    {
     "name": "stdout",
     "output_type": "stream",
     "text": [
      "('ax', 'dsw', 'sdhgw', 'efiu', 'wug')\n",
      "(12, 323, 43, 53, 3)\n",
      "(12.34, 45.75, 24.66, 35.46, 75.86)\n"
     ]
    }
   ],
   "source": [
    "x=('ax', 'dsw','sdhgw','efiu','wug')\n",
    "y=(12,323,43,53,3)\n",
    "z=(12.34,45.75,24.66,35.46,75.86)\n",
    "\n",
    "(nilesh, raj,ravi)=x,y,z\n",
    "print(nilesh)\n",
    "print(raj)\n",
    "print(ravi)"
   ]
  },
  {
   "cell_type": "code",
   "execution_count": null,
   "id": "58c277b9",
   "metadata": {},
   "outputs": [],
   "source": [
    "x=('ax', 'dsw','sdhgw','efiu','wug')\n",
    "y=(12,323,43,53,3)\n",
    "z=(12.34,45.75,24.66,35.46,75.86)\n",
    "\n",
    "nilesh\n",
    "print(a)"
   ]
  }
 ],
 "metadata": {
  "kernelspec": {
   "display_name": "Python 3",
   "language": "python",
   "name": "python3"
  },
  "language_info": {
   "codemirror_mode": {
    "name": "ipython",
    "version": 3
   },
   "file_extension": ".py",
   "mimetype": "text/x-python",
   "name": "python",
   "nbconvert_exporter": "python",
   "pygments_lexer": "ipython3",
   "version": "3.8.8"
  }
 },
 "nbformat": 4,
 "nbformat_minor": 5
}
