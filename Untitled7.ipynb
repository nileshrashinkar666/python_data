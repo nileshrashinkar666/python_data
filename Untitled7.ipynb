{
 "cells": [
  {
   "cell_type": "code",
   "execution_count": 2,
   "id": "533e3eac",
   "metadata": {},
   "outputs": [
    {
     "name": "stdout",
     "output_type": "stream",
     "text": [
      "{'emp1': {'emp_no': 'D135', 'emp_name': 'nilesh', 'designation': 'Hr', 'salary': 25000, 'city': 'pune'}, 'emp2': {'emp_no': 'E35', 'emp_name': 'rudra', 'designation': 'manager', 'salary': 90000, 'city': 'pune'}}\n"
     ]
    }
   ],
   "source": [
    "my_dict = {\n",
    "    'emp1':{\n",
    "        'emp_no': 'D135',\n",
    "        'emp_name': 'nilesh',\n",
    "        'designation': 'Hr',\n",
    "        'salary': 25000,\n",
    "        'city': 'pune'\n",
    "    },\n",
    "    'emp2':{\n",
    "       'emp_no': 'E35',\n",
    "        'emp_name': 'rudra',\n",
    "        'designation': 'manager',\n",
    "        'salary': 90000,\n",
    "        'city': 'pune' \n",
    "    }\n",
    "}\n",
    "\n",
    "print(my_dict)"
   ]
  },
  {
   "cell_type": "code",
   "execution_count": 4,
   "id": "64edda36",
   "metadata": {},
   "outputs": [
    {
     "data": {
      "text/plain": [
       "{'emp_no': 'D135',\n",
       " 'emp_name': 'nilesh',\n",
       " 'designation': 'Hr',\n",
       " 'salary': 25000,\n",
       " 'city': 'pune'}"
      ]
     },
     "execution_count": 4,
     "metadata": {},
     "output_type": "execute_result"
    }
   ],
   "source": [
    "my_dict['emp1']"
   ]
  },
  {
   "cell_type": "code",
   "execution_count": null,
   "id": "412cb7e5",
   "metadata": {},
   "outputs": [],
   "source": []
  },
  {
   "cell_type": "markdown",
   "id": "b3def1bd",
   "metadata": {},
   "source": [
    "# squre root"
   ]
  },
  {
   "cell_type": "code",
   "execution_count": 2,
   "id": "b656dbe1",
   "metadata": {},
   "outputs": [
    {
     "ename": "ModuleNotFoundError",
     "evalue": "No module named 'calculation'",
     "output_type": "error",
     "traceback": [
      "\u001b[1;31m---------------------------------------------------------------------------\u001b[0m",
      "\u001b[1;31mModuleNotFoundError\u001b[0m                       Traceback (most recent call last)",
      "\u001b[1;32m<ipython-input-2-b912f129463b>\u001b[0m in \u001b[0;36m<module>\u001b[1;34m\u001b[0m\n\u001b[1;32m----> 1\u001b[1;33m \u001b[1;32mimport\u001b[0m \u001b[0mcalculation\u001b[0m\u001b[1;33m\u001b[0m\u001b[1;33m\u001b[0m\u001b[0m\n\u001b[0m\u001b[0;32m      2\u001b[0m \u001b[0mnumber\u001b[0m\u001b[1;33m=\u001b[0m \u001b[0mfloat\u001b[0m\u001b[1;33m(\u001b[0m\u001b[0minput\u001b[0m\u001b[1;33m(\u001b[0m\u001b[1;34m\"enter the value:\"\u001b[0m\u001b[1;33m)\u001b[0m\u001b[1;33m)\u001b[0m\u001b[1;33m\u001b[0m\u001b[1;33m\u001b[0m\u001b[0m\n\u001b[0;32m      3\u001b[0m \u001b[0msquareroot\u001b[0m\u001b[1;33m=\u001b[0m \u001b[0mcalculation\u001b[0m\u001b[1;33m.\u001b[0m\u001b[0mpow\u001b[0m\u001b[1;33m(\u001b[0m\u001b[0mnumber\u001b[0m\u001b[1;33m,\u001b[0m \u001b[1;36m0.5\u001b[0m\u001b[1;33m)\u001b[0m\u001b[1;33m\u001b[0m\u001b[1;33m\u001b[0m\u001b[0m\n\u001b[0;32m      4\u001b[0m \u001b[0mprint\u001b[0m\u001b[1;33m(\u001b[0m\u001b[1;34m\"square root{0}={1}\"\u001b[0m\u001b[1;33m.\u001b[0m\u001b[0mformat\u001b[0m\u001b[1;33m(\u001b[0m\u001b[0mnumber\u001b[0m\u001b[1;33m,\u001b[0m\u001b[0msquareroot\u001b[0m\u001b[1;33m)\u001b[0m\u001b[1;33m)\u001b[0m\u001b[1;33m\u001b[0m\u001b[1;33m\u001b[0m\u001b[0m\n",
      "\u001b[1;31mModuleNotFoundError\u001b[0m: No module named 'calculation'"
     ]
    }
   ],
   "source": [
    "import calculation\n",
    "number= float(input(\"enter the value:\"))\n",
    "squareroot= calculation.pow(number, 0.5)\n",
    "print(\"square root{0}={1}\".format(number,squareroot))"
   ]
  },
  {
   "cell_type": "code",
   "execution_count": null,
   "id": "02f810bc",
   "metadata": {},
   "outputs": [],
   "source": []
  }
 ],
 "metadata": {
  "kernelspec": {
   "display_name": "Python 3",
   "language": "python",
   "name": "python3"
  },
  "language_info": {
   "codemirror_mode": {
    "name": "ipython",
    "version": 3
   },
   "file_extension": ".py",
   "mimetype": "text/x-python",
   "name": "python",
   "nbconvert_exporter": "python",
   "pygments_lexer": "ipython3",
   "version": "3.8.8"
  }
 },
 "nbformat": 4,
 "nbformat_minor": 5
}
