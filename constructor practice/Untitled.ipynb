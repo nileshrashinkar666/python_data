{
 "cells": [
  {
   "cell_type": "markdown",
   "id": "749d034a",
   "metadata": {},
   "source": [
    "# constructor without parameter"
   ]
  },
  {
   "cell_type": "code",
   "execution_count": 1,
   "id": "828ced30",
   "metadata": {},
   "outputs": [
    {
     "ename": "SyntaxError",
     "evalue": "invalid syntax (<ipython-input-1-a5dad67fd727>, line 2)",
     "output_type": "error",
     "traceback": [
      "\u001b[1;36m  File \u001b[1;32m\"<ipython-input-1-a5dad67fd727>\"\u001b[1;36m, line \u001b[1;32m2\u001b[0m\n\u001b[1;33m    def__init__(self):      #address of current object\u001b[0m\n\u001b[1;37m                            ^\u001b[0m\n\u001b[1;31mSyntaxError\u001b[0m\u001b[1;31m:\u001b[0m invalid syntax\n"
     ]
    }
   ],
   "source": [
    "class mobile: \n",
    "    def__init__(self):      #address of current object             \n",
    "        self.model= \"realme_x\"\n",
    "realme= Mobile()    \n",
    "    \n"
   ]
  },
  {
   "cell_type": "code",
   "execution_count": null,
   "id": "82366144",
   "metadata": {},
   "outputs": [],
   "source": [
    "class school:\n",
    "    def __init__(self,name,roll_no,school):\n",
    "        self.name = \"nilesh\"\n",
    "        self.roll_no= 102\n",
    "        self.school= \"Tanwani_english\"\n",
    "    def student(self):\n",
    "        print(\"my name is :\", self.name)\n",
    "        print(\"my roll_no is :\", self.roll_no)\n",
    "        print(\"my school is :\", self.school)\n",
    "        \n",
    "s=school(\"nilesh\",102,\"Tanwani_english\")\n",
    "s.student()\n",
    "\n",
    "        \n",
    "    "
   ]
  },
  {
   "cell_type": "code",
   "execution_count": null,
   "id": "af2f6d72",
   "metadata": {},
   "outputs": [],
   "source": [
    "class mobile:\n",
    "    def __init__(self,name,brand,colour):\n",
    "        self.name= \"samsung\"\n",
    "        self.brand= \"s1\"\n",
    "        self.colour= \"black\"\n",
    "        \n",
    "    def phone(self):\n",
    "        print(\"i love:\", self.name)\n",
    "        print(self.brand)\n",
    "        print(\"i like:\", self.colour)\n",
    "        \n",
    "s=mobile(\"samsung\",\"s1\",\"black\")\n",
    "s.phone()\n"
   ]
  },
  {
   "cell_type": "code",
   "execution_count": 7,
   "id": "decc8c9b",
   "metadata": {},
   "outputs": [
    {
     "name": "stdout",
     "output_type": "stream",
     "text": [
      "sachin\n",
      "rohit\n",
      "50\n",
      "50\n",
      "kolkata\n"
     ]
    }
   ],
   "source": [
    "class cricket:\n",
    "    def __init__(self,name1,name2,score1,score2,area):\n",
    "        self.name1= \"sachin\"\n",
    "        self.name2= \"rohit\"\n",
    "        self.score1= 50\n",
    "        self.score2= 50\n",
    "        self.area= \"kolkata\"\n",
    "    \n",
    "    def players(self):\n",
    "        print(self.name1)\n",
    "        print(self.name2)\n",
    "        print(self.score1)\n",
    "        print(self.score2)\n",
    "        print(self.area)\n",
    "    \n",
    "s=cricket(\"sachin\",\"rohit\", 50,50,\"kolkata\")\n",
    "s.players()\n",
    "    "
   ]
  },
  {
   "cell_type": "code",
   "execution_count": null,
   "id": "3ea038b9",
   "metadata": {},
   "outputs": [],
   "source": []
  }
 ],
 "metadata": {
  "kernelspec": {
   "display_name": "Python 3",
   "language": "python",
   "name": "python3"
  },
  "language_info": {
   "codemirror_mode": {
    "name": "ipython",
    "version": 3
   },
   "file_extension": ".py",
   "mimetype": "text/x-python",
   "name": "python",
   "nbconvert_exporter": "python",
   "pygments_lexer": "ipython3",
   "version": "3.8.8"
  }
 },
 "nbformat": 4,
 "nbformat_minor": 5
}
