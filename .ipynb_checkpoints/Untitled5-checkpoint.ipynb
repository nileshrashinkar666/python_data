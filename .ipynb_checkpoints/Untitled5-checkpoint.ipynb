{
 "cells": [
  {
   "cell_type": "code",
   "execution_count": 13,
   "id": "2507c16e",
   "metadata": {},
   "outputs": [
    {
     "name": "stdout",
     "output_type": "stream",
     "text": [
      "1000 is greater than 500\n"
     ]
    }
   ],
   "source": [
    "num_1 = 500\n",
    "num_2 = 1000\n",
    "\n",
    "if num_2 > num_1:\n",
    "    print('1000 is greater than 500')\n",
    "else:\n",
    "    print('1000 is less than 500')\n"
   ]
  },
  {
   "cell_type": "code",
   "execution_count": 14,
   "id": "9333c281",
   "metadata": {},
   "outputs": [
    {
     "name": "stdout",
     "output_type": "stream",
     "text": [
      "enter an integer no.55\n",
      "55 is odd number\n"
     ]
    }
   ],
   "source": [
    "number= int(input('enter an integer no.'))\n",
    "remainder= number % 2\n",
    "if(remainder == 0):\n",
    "    print(number, 'is even number')\n",
    "else:\n",
    "    print(number, 'is odd number')\n",
    "\n",
    "    \n"
   ]
  },
  {
   "cell_type": "code",
   "execution_count": 25,
   "id": "13c4b979",
   "metadata": {
    "scrolled": true
   },
   "outputs": [
    {
     "name": "stdout",
     "output_type": "stream",
     "text": [
      "enter an integer no.78\n",
      "78.0 is even no.\n"
     ]
    }
   ],
   "source": [
    "number= float(input('enter an integer no.'))\n",
    "remainder= number % 2\n",
    "if (remainder==0):\n",
    "        print(number, 'is even no.')\n",
    "else:\n",
    "        print(number, 'is odd no.')"
   ]
  },
  {
   "cell_type": "code",
   "execution_count": null,
   "id": "cca3b033",
   "metadata": {},
   "outputs": [],
   "source": []
  },
  {
   "cell_type": "code",
   "execution_count": 13,
   "id": "82e115f3",
   "metadata": {},
   "outputs": [
    {
     "name": "stdout",
     "output_type": "stream",
     "text": [
      "[]\n"
     ]
    }
   ],
   "source": [
    "import re\n",
    "my_text= '(257) 563-7204' \n",
    "result =findall('[0-9()]{5}[ ]{1}[0-9]{3}[-]{1}[0-9]{4}',my_text)\n",
    "print(result)"
   ]
  },
  {
   "cell_type": "code",
   "execution_count": 4,
   "id": "7262a590",
   "metadata": {},
   "outputs": [
    {
     "name": "stdout",
     "output_type": "stream",
     "text": [
      "[]\n"
     ]
    }
   ],
   "source": [
    "from re import findall\n",
    "my_text= '(257) 563-7204' \n",
    "result =findall('(\\d{3}) \\d{3}-\\d{4}',my_text)\n",
    "print(result)"
   ]
  },
  {
   "cell_type": "code",
   "execution_count": 7,
   "id": "4b0eb898",
   "metadata": {},
   "outputs": [
    {
     "name": "stdout",
     "output_type": "stream",
     "text": [
      "[]\n"
     ]
    }
   ],
   "source": [
    "import re\n",
    "my_text= '(257) 563-7204' \n",
    "result =findall('(w{3})-w{3}-w{4}',my_text)\n",
    "print(result)"
   ]
  },
  {
   "cell_type": "code",
   "execution_count": 11,
   "id": "92d492bd",
   "metadata": {},
   "outputs": [
    {
     "name": "stdout",
     "output_type": "stream",
     "text": [
      "['(257) 563-7204']\n"
     ]
    }
   ],
   "source": [
    "import re\n",
    "my_text= '(257) 563-7204' \n",
    "result =findall('[0-9()]{5}[ ]{1}[0-9]{3}[-]{1}[0-9]{4}',my_text)\n",
    "print(result)"
   ]
  },
  {
   "cell_type": "code",
   "execution_count": null,
   "id": "fe723661",
   "metadata": {},
   "outputs": [],
   "source": []
  }
 ],
 "metadata": {
  "kernelspec": {
   "display_name": "Python 3",
   "language": "python",
   "name": "python3"
  },
  "language_info": {
   "codemirror_mode": {
    "name": "ipython",
    "version": 3
   },
   "file_extension": ".py",
   "mimetype": "text/x-python",
   "name": "python",
   "nbconvert_exporter": "python",
   "pygments_lexer": "ipython3",
   "version": "3.8.8"
  }
 },
 "nbformat": 4,
 "nbformat_minor": 5
}
