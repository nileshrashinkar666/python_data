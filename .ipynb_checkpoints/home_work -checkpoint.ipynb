{
 "cells": [
  {
   "cell_type": "code",
   "execution_count": 1,
   "id": "fc4311f8",
   "metadata": {},
   "outputs": [
    {
     "name": "stdout",
     "output_type": "stream",
     "text": [
      "{'stud_name': ['nilesh', 'rudra', 'malhar', 'samartha'], 'pointer': [7.0, 5.63, 7.1, 8], 'year': [2019, 2019, 2020, 2021], 'stars': {5, 3, 4.5, 4.9}}\n"
     ]
    }
   ],
   "source": [
    "my_dict = {\n",
    "    'stud_name':['nilesh','rudra','malhar','samartha'],\n",
    "    'pointer':[7.00,5.63,7.10, 8],\n",
    "    'year': [2019,2019,2020,2021],\n",
    "    'stars':{4.5,3,4.9,5}\n",
    "}\n",
    "\n",
    "print(my_dict)\n",
    "\n",
    "\n"
   ]
  },
  {
   "cell_type": "code",
   "execution_count": 2,
   "id": "90d580b7",
   "metadata": {},
   "outputs": [
    {
     "data": {
      "text/plain": [
       "dict_items([('stud_name', ['nilesh', 'rudra', 'malhar', 'samartha']), ('pointer', [7.0, 5.63, 7.1, 8]), ('year', [2019, 2019, 2020, 2021]), ('stars', {5, 3, 4.5, 4.9})])"
      ]
     },
     "execution_count": 2,
     "metadata": {},
     "output_type": "execute_result"
    }
   ],
   "source": [
    "my_dict.items()"
   ]
  },
  {
   "cell_type": "code",
   "execution_count": 3,
   "id": "3dbf4ad5",
   "metadata": {},
   "outputs": [
    {
     "name": "stdout",
     "output_type": "stream",
     "text": [
      "year\n"
     ]
    }
   ],
   "source": [
    "max_value = max(my_dict)\n",
    "print(max_value)\n"
   ]
  },
  {
   "cell_type": "code",
   "execution_count": null,
   "id": "28d5e1fd",
   "metadata": {},
   "outputs": [],
   "source": []
  },
  {
   "cell_type": "code",
   "execution_count": null,
   "id": "6b4f52e2",
   "metadata": {},
   "outputs": [],
   "source": []
  },
  {
   "cell_type": "code",
   "execution_count": null,
   "id": "443a084b",
   "metadata": {},
   "outputs": [],
   "source": []
  },
  {
   "cell_type": "code",
   "execution_count": null,
   "id": "48d3f064",
   "metadata": {},
   "outputs": [],
   "source": []
  },
  {
   "cell_type": "code",
   "execution_count": null,
   "id": "632aeb63",
   "metadata": {},
   "outputs": [],
   "source": []
  },
  {
   "cell_type": "code",
   "execution_count": null,
   "id": "adc8aa9f",
   "metadata": {},
   "outputs": [],
   "source": []
  },
  {
   "cell_type": "code",
   "execution_count": null,
   "id": "c3b24f25",
   "metadata": {},
   "outputs": [],
   "source": []
  },
  {
   "cell_type": "markdown",
   "id": "6cfe4fab",
   "metadata": {},
   "source": [
    "# 2nd question\n",
    "#2. Python Program to multiply all values\n"
   ]
  },
  {
   "cell_type": "code",
   "execution_count": null,
   "id": "8579c78d",
   "metadata": {},
   "outputs": [],
   "source": [
    "my_dict = {\n",
    "    'nilesh_pointer': 7.25,\n",
    "    'rudra_pointer': 6.00,\n",
    "    'malhar': 9.25,\n",
    "    'samarth': 8.88,\n",
    "    'ravi': 5.5,\n",
    "}\n",
    "a = 1\n",
    "for i in my_dict:\n",
    "    a = a*my_dict[i]\n",
    "print(a)\n"
   ]
  },
  {
   "cell_type": "code",
   "execution_count": null,
   "id": "b0c602bf",
   "metadata": {},
   "outputs": [],
   "source": [
    "my_dict = {\n",
    "    'value1': [5,5],\n",
    "    'value2': [4,4],\n",
    "    'value3': [3,3],\n",
    "    'value4': [2,2],\n",
    "    'value5': [1,1],\n",
    "}\n",
    "a = 1\n",
    "for i in my_dict:\n",
    "    a = a*my_dict[i]\n",
    "print(a)"
   ]
  },
  {
   "cell_type": "code",
   "execution_count": null,
   "id": "c96a0738",
   "metadata": {},
   "outputs": [],
   "source": [
    " "
   ]
  }
 ],
 "metadata": {
  "kernelspec": {
   "display_name": "Python 3",
   "language": "python",
   "name": "python3"
  },
  "language_info": {
   "codemirror_mode": {
    "name": "ipython",
    "version": 3
   },
   "file_extension": ".py",
   "mimetype": "text/x-python",
   "name": "python",
   "nbconvert_exporter": "python",
   "pygments_lexer": "ipython3",
   "version": "3.8.8"
  }
 },
 "nbformat": 4,
 "nbformat_minor": 5
}
