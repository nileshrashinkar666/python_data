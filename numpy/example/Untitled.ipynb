{
 "cells": [
  {
   "cell_type": "markdown",
   "id": "fd754d1e",
   "metadata": {},
   "source": [
    "# 0 dimensional"
   ]
  },
  {
   "cell_type": "code",
   "execution_count": 1,
   "id": "570f18b6",
   "metadata": {},
   "outputs": [
    {
     "name": "stdout",
     "output_type": "stream",
     "text": [
      "50\n"
     ]
    }
   ],
   "source": [
    "import numpy as np\n",
    "my_array= np.array(50)\n",
    "print(my_array)"
   ]
  },
  {
   "cell_type": "code",
   "execution_count": 3,
   "id": "7a1b28d9",
   "metadata": {},
   "outputs": [
    {
     "name": "stdout",
     "output_type": "stream",
     "text": [
      "40\n"
     ]
    }
   ],
   "source": [
    "import numpy as sp\n",
    "my_value= sp.array(40)\n",
    "print(my_value)\n"
   ]
  },
  {
   "cell_type": "markdown",
   "id": "186f7c1d",
   "metadata": {},
   "source": [
    "# 1 dimensional"
   ]
  },
  {
   "cell_type": "code",
   "execution_count": 4,
   "id": "0c3142ee",
   "metadata": {},
   "outputs": [
    {
     "name": "stdout",
     "output_type": "stream",
     "text": [
      "[22 23 13 21]\n"
     ]
    }
   ],
   "source": [
    "import numpy as tp\n",
    "my_value= tp.array([22,23,13,21])\n",
    "print(my_value)"
   ]
  },
  {
   "cell_type": "code",
   "execution_count": 9,
   "id": "9a8b9af0",
   "metadata": {},
   "outputs": [
    {
     "name": "stdout",
     "output_type": "stream",
     "text": [
      "[ 22. 273.  12.   1.]\n"
     ]
    }
   ],
   "source": [
    "my_value= tp.array([22,273.,12,1])\n",
    "print(my_value)"
   ]
  },
  {
   "cell_type": "markdown",
   "id": "c819be95",
   "metadata": {},
   "source": [
    "# 2 dimensional"
   ]
  },
  {
   "cell_type": "code",
   "execution_count": null,
   "id": "110f0067",
   "metadata": {},
   "outputs": [],
   "source": [
    "import numpy as cd\n",
    "my_value= cd.array([12,43,22,43],[13,53,43,76])\n"
   ]
  },
  {
   "cell_type": "code",
   "execution_count": 16,
   "id": "9a454e80",
   "metadata": {},
   "outputs": [
    {
     "data": {
      "text/plain": [
       "array([[10, 20, 30]])"
      ]
     },
     "execution_count": 16,
     "metadata": {},
     "output_type": "execute_result"
    }
   ],
   "source": [
    "import numpy as cd\n",
    "my_array = cd.array([[10,20,30]])\n",
    "my_array"
   ]
  },
  {
   "cell_type": "code",
   "execution_count": 17,
   "id": "fcc7bda7",
   "metadata": {},
   "outputs": [
    {
     "data": {
      "text/plain": [
       "2"
      ]
     },
     "execution_count": 17,
     "metadata": {},
     "output_type": "execute_result"
    }
   ],
   "source": [
    "my_array.ndim"
   ]
  },
  {
   "cell_type": "code",
   "execution_count": null,
   "id": "1d16b50a",
   "metadata": {},
   "outputs": [],
   "source": []
  }
 ],
 "metadata": {
  "kernelspec": {
   "display_name": "Python 3",
   "language": "python",
   "name": "python3"
  },
  "language_info": {
   "codemirror_mode": {
    "name": "ipython",
    "version": 3
   },
   "file_extension": ".py",
   "mimetype": "text/x-python",
   "name": "python",
   "nbconvert_exporter": "python",
   "pygments_lexer": "ipython3",
   "version": "3.8.8"
  }
 },
 "nbformat": 4,
 "nbformat_minor": 5
}
