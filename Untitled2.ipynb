{
 "cells": [
  {
   "cell_type": "code",
   "execution_count": 2,
   "id": "87b9ce80",
   "metadata": {},
   "outputs": [
    {
     "data": {
      "text/plain": [
       "{'apple', 'banana', 'cherry', 'mango', 'watermelon'}"
      ]
     },
     "execution_count": 2,
     "metadata": {},
     "output_type": "execute_result"
    }
   ],
   "source": [
    "my_set= {'apple', 'cherry', 'mango','banana', 'watermelon'}\n",
    "my_set"
   ]
  },
  {
   "cell_type": "code",
   "execution_count": 3,
   "id": "b2d03263",
   "metadata": {},
   "outputs": [
    {
     "name": "stdout",
     "output_type": "stream",
     "text": [
      "{'cherry', 'mango', 'watermelon', 'orange', 'Papaya', 'pineapple', 'apple'}\n"
     ]
    }
   ],
   "source": [
    "my_set1 = {'apple','mango','cherry','Papaya'}\n",
    "my_set2 = {'pineapple','watermelon','orange'}\n",
    "\n",
    "my_set1.update(my_set2)\n",
    "print(my_set1)"
   ]
  },
  {
   "cell_type": "code",
   "execution_count": 4,
   "id": "b1565b7b",
   "metadata": {},
   "outputs": [
    {
     "name": "stdout",
     "output_type": "stream",
     "text": [
      "{'mango', 'Papaya', 'apple', 'watermelon', 'orange', 'pineapple'}\n"
     ]
    }
   ],
   "source": [
    "my_set1 = {'watermelon', 'mango', 'Papaya', 'apple', 'pineapple', 'orange', 'cherry'}\n",
    "\n",
    "my_set1.pop()\n",
    "print(my_set1)"
   ]
  },
  {
   "cell_type": "code",
   "execution_count": null,
   "id": "5150528d",
   "metadata": {},
   "outputs": [],
   "source": []
  }
 ],
 "metadata": {
  "kernelspec": {
   "display_name": "Python 3",
   "language": "python",
   "name": "python3"
  },
  "language_info": {
   "codemirror_mode": {
    "name": "ipython",
    "version": 3
   },
   "file_extension": ".py",
   "mimetype": "text/x-python",
   "name": "python",
   "nbconvert_exporter": "python",
   "pygments_lexer": "ipython3",
   "version": "3.8.8"
  }
 },
 "nbformat": 4,
 "nbformat_minor": 5
}
