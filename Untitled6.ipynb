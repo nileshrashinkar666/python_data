{
 "cells": [
  {
   "cell_type": "code",
   "execution_count": 2,
   "id": "cf33496d",
   "metadata": {},
   "outputs": [
    {
     "name": "stdout",
     "output_type": "stream",
     "text": [
      "{'e', 'r'}\n"
     ]
    }
   ],
   "source": [
    "my_set1 = {'a', 'b', 'c', 'd', 'e', 'f', 'g'}\n",
    "my_set2 = {'g', 'f', 'a', 'c', 'd', 'r', 'b'}\n",
    "new_set= my_set2.symmetric_difference(my_set1)\n",
    "print (new_set)"
   ]
  },
  {
   "cell_type": "code",
   "execution_count": 3,
   "id": "87c01b4d",
   "metadata": {},
   "outputs": [
    {
     "data": {
      "text/plain": [
       "{'e', 'r'}"
      ]
     },
     "execution_count": 3,
     "metadata": {},
     "output_type": "execute_result"
    }
   ],
   "source": [
    "my_set1 = {'a', 'b', 'c', 'd', 'e', 'f', 'g'}\n",
    "my_set2 = {'g', 'f', 'a', 'c', 'd', 'r', 'b'}\n",
    "my_set2.symmetric_difference_update(my_set1)\n",
    "my_set2\n"
   ]
  },
  {
   "cell_type": "code",
   "execution_count": 10,
   "id": "b87837c6",
   "metadata": {},
   "outputs": [
    {
     "name": "stdout",
     "output_type": "stream",
     "text": [
      "{'papaya', 'samosa'}\n"
     ]
    }
   ],
   "source": [
    "my_set1 = {\"apple\",\"mango\",\"cherry\",'orange','watermelon','blackcurrent', 'water'}\n",
    "my_set2 = {\"mango\", 'watermelon', 'apple', 'blackcurrent','papaya', 'samosa'}\n",
    "\n",
    "my_set1.difference(my_set2)\n",
    "print(new_set)"
   ]
  },
  {
   "cell_type": "code",
   "execution_count": 1,
   "id": "f269c337",
   "metadata": {},
   "outputs": [
    {
     "ename": "NameError",
     "evalue": "name 'my_list1' is not defined",
     "output_type": "error",
     "traceback": [
      "\u001b[1;31m---------------------------------------------------------------------------\u001b[0m",
      "\u001b[1;31mNameError\u001b[0m                                 Traceback (most recent call last)",
      "\u001b[1;32m<ipython-input-1-a754a43c80b7>\u001b[0m in \u001b[0;36m<module>\u001b[1;34m\u001b[0m\n\u001b[1;32m----> 1\u001b[1;33m \u001b[0mmy_list1\u001b[0m\u001b[1;33m[\u001b[0m\u001b[1;33m-\u001b[0m\u001b[1;36m90\u001b[0m\u001b[1;33m,\u001b[0m \u001b[1;36m90\u001b[0m\u001b[1;33m,\u001b[0m \u001b[1;36m15\u001b[0m\u001b[1;33m]\u001b[0m\u001b[1;33m\u001b[0m\u001b[1;33m\u001b[0m\u001b[0m\n\u001b[0m",
      "\u001b[1;31mNameError\u001b[0m: name 'my_list1' is not defined"
     ]
    }
   ],
   "source": [
    "my_list1[-90, 90, 15]"
   ]
  },
  {
   "cell_type": "code",
   "execution_count": 9,
   "id": "ca60c517",
   "metadata": {},
   "outputs": [
    {
     "data": {
      "text/plain": [
       "dict_keys(['brand', 'models', 'year', 'TouchScreen', 'colors', 'price'])"
      ]
     },
     "execution_count": 9,
     "metadata": {},
     "output_type": "execute_result"
    }
   ],
   "source": [
    "my_dict2 = {'brand': ['MI', 'LG', 'Samsung'],\n",
    " 'models': 'MI_A1',\n",
    " 'year': 2019,\n",
    " 'TouchScreen': True,\n",
    " \n",
    " 'colors': ['Golden', 'black', 'White'],\n",
    " 'price': 10500.45}\n",
    "\n",
    "my_dict2.keys()\n",
    "\n"
   ]
  },
  {
   "cell_type": "code",
   "execution_count": 7,
   "id": "f14e0736",
   "metadata": {},
   "outputs": [
    {
     "name": "stdout",
     "output_type": "stream",
     "text": [
      "a\n",
      "p\n",
      "p\n",
      "l\n",
      "i\n",
      "c\n",
      "a\n",
      "t\n",
      "i\n",
      "o\n",
      "n\n",
      "s\n"
     ]
    }
   ],
   "source": [
    "loop= \"applications\"\n",
    "\n",
    "for ch in loop:\n",
    "    print(ch)"
   ]
  },
  {
   "cell_type": "code",
   "execution_count": 11,
   "id": "4dce3e9c",
   "metadata": {},
   "outputs": [
    {
     "name": "stdout",
     "output_type": "stream",
     "text": [
      "5\n",
      "8\n",
      "11\n",
      "14\n",
      "17\n",
      "20\n",
      "23\n",
      "26\n",
      "29\n"
     ]
    }
   ],
   "source": [
    "x= range (5, 30, 3)\n",
    "for i in x:\n",
    "    print(i)"
   ]
  },
  {
   "cell_type": "code",
   "execution_count": 13,
   "id": "32d644be",
   "metadata": {},
   "outputs": [
    {
     "name": "stdout",
     "output_type": "stream",
     "text": [
      "1\n",
      "2\n",
      "3\n",
      "4\n",
      "5\n",
      "6\n",
      "7\n",
      "8\n",
      "9\n",
      "10\n"
     ]
    }
   ],
   "source": [
    "a=1\n",
    "while a<=10:\n",
    "    print(a)\n",
    "    a=a+1\n",
    "    "
   ]
  },
  {
   "cell_type": "code",
   "execution_count": 16,
   "id": "add73c5c",
   "metadata": {},
   "outputs": [
    {
     "name": "stdout",
     "output_type": "stream",
     "text": [
      "Enter number of rows: 5\n",
      "d\n",
      "de\n",
      "def\n",
      "defg\n",
      "defgh\n"
     ]
    }
   ],
   "source": [
    "n = int(input(\"Enter number of rows: \"))\n",
    "\n",
    "for i in range(1,n+1):\n",
    "    a = 100\n",
    "    for j in range(1, i+1):\n",
    "        print(\"%c\" %(a), end=\"\")\n",
    "        a += 1\n",
    "    print()"
   ]
  },
  {
   "cell_type": "code",
   "execution_count": null,
   "id": "384171fa",
   "metadata": {},
   "outputs": [],
   "source": []
  }
 ],
 "metadata": {
  "kernelspec": {
   "display_name": "Python 3",
   "language": "python",
   "name": "python3"
  },
  "language_info": {
   "codemirror_mode": {
    "name": "ipython",
    "version": 3
   },
   "file_extension": ".py",
   "mimetype": "text/x-python",
   "name": "python",
   "nbconvert_exporter": "python",
   "pygments_lexer": "ipython3",
   "version": "3.8.8"
  }
 },
 "nbformat": 4,
 "nbformat_minor": 5
}
