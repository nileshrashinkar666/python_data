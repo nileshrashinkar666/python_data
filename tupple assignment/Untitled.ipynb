{
 "cells": [
  {
   "cell_type": "markdown",
   "id": "48b10b6c",
   "metadata": {},
   "source": [
    "# 1st,\n",
    "         \n",
    "         \n",
    "         "
   ]
  },
  {
   "cell_type": "code",
   "execution_count": null,
   "id": "e836c8e3",
   "metadata": {},
   "outputs": [],
   "source": [
    "company_1 = {\n",
    "         'id': 123,\n",
    "        'name': 'nilesh',\n",
    "        'post': 'hr',\n",
    "        'salary': 15000\n",
    "    \n",
    "\n",
    "         \n",
    "        }\n",
    "print (company_1)\n",
    "   \n",
    "\n",
    "\n"
   ]
  },
  {
   "cell_type": "code",
   "execution_count": null,
   "id": "7c9b9128",
   "metadata": {},
   "outputs": [],
   "source": [
    "company_1.keys()"
   ]
  },
  {
   "cell_type": "markdown",
   "id": "d0c2f02a",
   "metadata": {},
   "source": [
    "# 2nd,"
   ]
  },
  {
   "cell_type": "code",
   "execution_count": null,
   "id": "17eb9fb0",
   "metadata": {},
   "outputs": [],
   "source": [
    "company_1 = {\n",
    "         'id': 123,\n",
    "        'name': 'nilesh',\n",
    "        'post': 'hr',\n",
    "        'salary': 15000\n",
    "    \n",
    "\n",
    "         \n",
    "        }\n",
    "print (company_1.values())\n",
    "   \n"
   ]
  },
  {
   "cell_type": "markdown",
   "id": "29812107",
   "metadata": {},
   "source": [
    "# 3rd,"
   ]
  },
  {
   "cell_type": "code",
   "execution_count": 17,
   "id": "8edc9af4",
   "metadata": {},
   "outputs": [
    {
     "ename": "AttributeError",
     "evalue": "'dict' object has no attribute 'sum'",
     "output_type": "error",
     "traceback": [
      "\u001b[1;31m---------------------------------------------------------------------------\u001b[0m",
      "\u001b[1;31mAttributeError\u001b[0m                            Traceback (most recent call last)",
      "\u001b[1;32m<ipython-input-17-a1c8b163ac8c>\u001b[0m in \u001b[0;36m<module>\u001b[1;34m\u001b[0m\n\u001b[0;32m      6\u001b[0m }\n\u001b[0;32m      7\u001b[0m \u001b[1;33m\u001b[0m\u001b[0m\n\u001b[1;32m----> 8\u001b[1;33m \u001b[0mattendance\u001b[0m\u001b[1;33m.\u001b[0m\u001b[0msum\u001b[0m\u001b[1;33m(\u001b[0m\u001b[0mvalues\u001b[0m\u001b[1;33m)\u001b[0m\u001b[1;33m\u001b[0m\u001b[1;33m\u001b[0m\u001b[0m\n\u001b[0m\u001b[0;32m      9\u001b[0m \u001b[0mprint\u001b[0m\u001b[1;33m(\u001b[0m\u001b[0mattendance\u001b[0m\u001b[1;33m)\u001b[0m\u001b[1;33m\u001b[0m\u001b[1;33m\u001b[0m\u001b[0m\n",
      "\u001b[1;31mAttributeError\u001b[0m: 'dict' object has no attribute 'sum'"
     ]
    }
   ],
   "source": [
    "attendance= {\n",
    "    'nilesh':80,\n",
    "    'rudra': 76,\n",
    "    'malhar':55,\n",
    "    'ravi':60\n",
    "}\n",
    "\n",
    "attendance.sum(values)\n",
    "print(attendance)\n"
   ]
  },
  {
   "cell_type": "code",
   "execution_count": 13,
   "id": "e8e6df8d",
   "metadata": {},
   "outputs": [],
   "source": [
    "addition= ('attendance.values')\n",
    "print=(sum(attendance.values()))\n"
   ]
  },
  {
   "cell_type": "code",
   "execution_count": null,
   "id": "a79174af",
   "metadata": {},
   "outputs": [],
   "source": []
  },
  {
   "cell_type": "markdown",
   "id": "2ee4f7c5",
   "metadata": {},
   "source": [
    "# 4th,"
   ]
  },
  {
   "cell_type": "code",
   "execution_count": 5,
   "id": "87f1ced0",
   "metadata": {},
   "outputs": [
    {
     "name": "stdout",
     "output_type": "stream",
     "text": [
      "{'id': 123, 'name': 'nilesh', 'salary': 15000}\n"
     ]
    }
   ],
   "source": [
    "company_1 = {\n",
    "         'id': 123,\n",
    "        'name': 'nilesh',\n",
    "        'post': 'hr',\n",
    "        'salary': 15000\n",
    "    }\n",
    "company_1.pop('post')\n",
    "print(company_1)\n",
    "   \n"
   ]
  },
  {
   "cell_type": "code",
   "execution_count": 9,
   "id": "c2e35890",
   "metadata": {},
   "outputs": [
    {
     "name": "stdout",
     "output_type": "stream",
     "text": [
      "{'Brand': 'ford', 'prize': 444}\n"
     ]
    }
   ],
   "source": [
    "Car= {\n",
    "\"Brand\" : \"ford\", \n",
    "\"Model\" : \"mustang\",\n",
    "'prize':   444\n",
    "}\n",
    "Car.pop(\"Model\")\n",
    "print(Car)"
   ]
  },
  {
   "cell_type": "code",
   "execution_count": null,
   "id": "1120fa86",
   "metadata": {},
   "outputs": [],
   "source": []
  }
 ],
 "metadata": {
  "kernelspec": {
   "display_name": "Python 3",
   "language": "python",
   "name": "python3"
  },
  "language_info": {
   "codemirror_mode": {
    "name": "ipython",
    "version": 3
   },
   "file_extension": ".py",
   "mimetype": "text/x-python",
   "name": "python",
   "nbconvert_exporter": "python",
   "pygments_lexer": "ipython3",
   "version": "3.8.8"
  }
 },
 "nbformat": 4,
 "nbformat_minor": 5
}
