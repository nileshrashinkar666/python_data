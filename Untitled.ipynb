{
 "cells": [
  {
   "cell_type": "code",
   "execution_count": 1,
   "id": "58c0a134",
   "metadata": {},
   "outputs": [
    {
     "name": "stdout",
     "output_type": "stream",
     "text": [
      "['apple', 'mango', 'banana', 'chwerry']\n",
      "['apple', 'mango', 'banana', 'chwerry', 'tomamto']\n"
     ]
    }
   ],
   "source": [
    "my_list1 = [\"apple\", 'mango', \"banana\" ]\n",
    "my_list2 = [ 'chwerry', \"tomamto\"]\n",
    "\n",
    "for i in my_list2:\n",
    "    my_list1.append(i)\n",
    "    print(my_list1)\n",
    "    "
   ]
  },
  {
   "cell_type": "code",
   "execution_count": 2,
   "id": "82b1e5ef",
   "metadata": {},
   "outputs": [
    {
     "ename": "SyntaxError",
     "evalue": "Missing parentheses in call to 'print'. Did you mean print(c)? (<ipython-input-2-11e31e53616d>, line 4)",
     "output_type": "error",
     "traceback": [
      "\u001b[1;36m  File \u001b[1;32m\"<ipython-input-2-11e31e53616d>\"\u001b[1;36m, line \u001b[1;32m4\u001b[0m\n\u001b[1;33m    print c\u001b[0m\n\u001b[1;37m          ^\u001b[0m\n\u001b[1;31mSyntaxError\u001b[0m\u001b[1;31m:\u001b[0m Missing parentheses in call to 'print'. Did you mean print(c)?\n"
     ]
    }
   ],
   "source": [
    "a = 10\n",
    "b = 20\n",
    "c = [a + b]\n",
    "print c"
   ]
  },
  {
   "cell_type": "code",
   "execution_count": 3,
   "id": "145eaaa3",
   "metadata": {},
   "outputs": [
    {
     "ename": "SyntaxError",
     "evalue": "Missing parentheses in call to 'print'. Did you mean print(c)? (<ipython-input-3-c3b22a3850de>, line 5)",
     "output_type": "error",
     "traceback": [
      "\u001b[1;36m  File \u001b[1;32m\"<ipython-input-3-c3b22a3850de>\"\u001b[1;36m, line \u001b[1;32m5\u001b[0m\n\u001b[1;33m    print c\u001b[0m\n\u001b[1;37m          ^\u001b[0m\n\u001b[1;31mSyntaxError\u001b[0m\u001b[1;31m:\u001b[0m Missing parentheses in call to 'print'. Did you mean print(c)?\n"
     ]
    }
   ],
   "source": [
    "a = 10\n",
    "b = 20\n",
    "c = a + b\n",
    "\n",
    "print (c)\n",
    "\n",
    "\n"
   ]
  },
  {
   "cell_type": "code",
   "execution_count": 4,
   "id": "5cc18b09",
   "metadata": {},
   "outputs": [
    {
     "name": "stdout",
     "output_type": "stream",
     "text": [
      "30\n"
     ]
    }
   ],
   "source": [
    "a = 10\n",
    "b = 20\n",
    "c = a + b\n",
    "\n",
    "print(c)\n",
    "\n",
    "\n"
   ]
  },
  {
   "cell_type": "code",
   "execution_count": 5,
   "id": "a8988ad1",
   "metadata": {},
   "outputs": [
    {
     "name": "stdout",
     "output_type": "stream",
     "text": [
      "\f",
      "\n"
     ]
    }
   ],
   "source": [
    "clear\n"
   ]
  },
  {
   "cell_type": "code",
   "execution_count": 1,
   "id": "5b25d1d2",
   "metadata": {},
   "outputs": [
    {
     "name": "stdout",
     "output_type": "stream",
     "text": [
      "200 is greater than 100\n"
     ]
    }
   ],
   "source": [
    "num_1= 200\n",
    "num_2=100\n",
    "\n",
    "if (num_1>num_2):\n",
    "    print(\"200 is greater than 100\")\n",
    "else:\n",
    "    print(\"200 is not greater than 100\")\n",
    "\n",
    "    "
   ]
  },
  {
   "cell_type": "code",
   "execution_count": 8,
   "id": "473fc333",
   "metadata": {},
   "outputs": [
    {
     "name": "stdout",
     "output_type": "stream",
     "text": [
      "enter the values88\n",
      "88 is even  no.\n"
     ]
    }
   ],
   "source": [
    "number= int(input('enter the values'))\n",
    "remainder= number % 2\n",
    "if (remainder==0):\n",
    "        print(number, 'is even  no.')\n",
    "else:\n",
    "      \n",
    "        print(number, 'is odd  no.')\n",
    "\n",
    "    \n",
    "    "
   ]
  },
  {
   "cell_type": "code",
   "execution_count": 16,
   "id": "7dca36c6",
   "metadata": {},
   "outputs": [
    {
     "ename": "NameError",
     "evalue": "name 'name' is not defined",
     "output_type": "error",
     "traceback": [
      "\u001b[1;31m---------------------------------------------------------------------------\u001b[0m",
      "\u001b[1;31mNameError\u001b[0m                                 Traceback (most recent call last)",
      "\u001b[1;32m<ipython-input-16-45d6251e0554>\u001b[0m in \u001b[0;36m<module>\u001b[1;34m\u001b[0m\n\u001b[0;32m      1\u001b[0m \u001b[0mdata\u001b[0m\u001b[1;33m=\u001b[0m\u001b[1;33m{\u001b[0m\u001b[1;34m'name'\u001b[0m\u001b[1;33m:\u001b[0m \u001b[1;34m'nilesh'\u001b[0m\u001b[1;33m,\u001b[0m \u001b[1;34m'college'\u001b[0m\u001b[1;33m:\u001b[0m \u001b[1;34m'sanjivani college'\u001b[0m\u001b[1;33m,\u001b[0m \u001b[1;34m'roll no.'\u001b[0m\u001b[1;33m:\u001b[0m \u001b[1;36m120\u001b[0m\u001b[1;33m}\u001b[0m\u001b[1;33m\u001b[0m\u001b[1;33m\u001b[0m\u001b[0m\n\u001b[0;32m      2\u001b[0m \u001b[1;33m\u001b[0m\u001b[0m\n\u001b[1;32m----> 3\u001b[1;33m \u001b[0mdata\u001b[0m\u001b[1;33m=\u001b[0m\u001b[1;33m[\u001b[0m\u001b[0mname\u001b[0m\u001b[1;33m]\u001b[0m\u001b[1;33m\u001b[0m\u001b[1;33m\u001b[0m\u001b[0m\n\u001b[0m",
      "\u001b[1;31mNameError\u001b[0m: name 'name' is not defined"
     ]
    }
   ],
   "source": [
    "data={'name': 'nilesh', 'college': 'sanjivani college', 'roll no.': 120}\n",
    "\n",
    "data=[name]"
   ]
  },
  {
   "cell_type": "code",
   "execution_count": 14,
   "id": "9ec86112",
   "metadata": {},
   "outputs": [
    {
     "name": "stdout",
     "output_type": "stream",
     "text": [
      "[2, 4, 6, 8]\n"
     ]
    }
   ],
   "source": [
    "def addition(n):\n",
    "    return n + n\n",
    "  \n",
    "# We double all numbers using map()\n",
    "numbers = (1, 2, 3, 4)\n",
    "result = map(addition, numbers)\n",
    "print(list(result))"
   ]
  },
  {
   "cell_type": "code",
   "execution_count": 2,
   "id": "189ac8fa",
   "metadata": {},
   "outputs": [
    {
     "name": "stdout",
     "output_type": "stream",
     "text": [
      "car\n",
      "rca\n"
     ]
    }
   ],
   "source": [
    "word = sorted('rac')\n",
    "alternatives = ['car', 'girl', 'tofu', 'rca']\n",
    "\n",
    "for alt in alternatives:\n",
    "    if word == sorted(alt):\n",
    "        print (alt)"
   ]
  },
  {
   "cell_type": "code",
   "execution_count": null,
   "id": "2f9b3fa8",
   "metadata": {},
   "outputs": [],
   "source": []
  }
 ],
 "metadata": {
  "kernelspec": {
   "display_name": "Python 3",
   "language": "python",
   "name": "python3"
  },
  "language_info": {
   "codemirror_mode": {
    "name": "ipython",
    "version": 3
   },
   "file_extension": ".py",
   "mimetype": "text/x-python",
   "name": "python",
   "nbconvert_exporter": "python",
   "pygments_lexer": "ipython3",
   "version": "3.8.8"
  }
 },
 "nbformat": 4,
 "nbformat_minor": 5
}
