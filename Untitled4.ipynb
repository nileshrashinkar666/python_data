{
 "cells": [
  {
   "cell_type": "code",
   "execution_count": 7,
   "id": "32eb9676",
   "metadata": {},
   "outputs": [
    {
     "name": "stdout",
     "output_type": "stream",
     "text": [
      "('mango', 'watermelon', 'papaya')\n"
     ]
    }
   ],
   "source": [
    "my_tuples1=('apple', 'mango', 'cherry', 'watermelon', 'banana', 'papaya', 'juice', 'water', 'milk')\n",
    "print(my_tuples1 [1:6:2])"
   ]
  },
  {
   "cell_type": "code",
   "execution_count": 6,
   "id": "55649568",
   "metadata": {},
   "outputs": [
    {
     "name": "stdout",
     "output_type": "stream",
     "text": [
      "('apple', 'mango')\n"
     ]
    }
   ],
   "source": [
    "my_tuples1=('apple', 'mango', 'cherry', 'watermelon', 'banana', 'papaya')\n",
    "print(my_tuples1 [:2])"
   ]
  },
  {
   "cell_type": "code",
   "execution_count": 9,
   "id": "15f613ef",
   "metadata": {},
   "outputs": [
    {
     "name": "stdout",
     "output_type": "stream",
     "text": [
      "('apple', 'cherry', 'banana', 'juice', 'milk')\n"
     ]
    }
   ],
   "source": [
    "my_tuples1=('apple', 'mango', 'cherry', 'watermelon', 'banana', 'papaya', 'juice', 'water', 'milk')\n",
    "print(my_tuples1 [0:20:2])"
   ]
  },
  {
   "cell_type": "code",
   "execution_count": 14,
   "id": "1c5a732a",
   "metadata": {},
   "outputs": [
    {
     "name": "stdout",
     "output_type": "stream",
     "text": [
      "('apple', 'mango', 'cherry', 'watermelon', 'banana', 'papaya')\n"
     ]
    }
   ],
   "source": [
    "my_tuples1=('apple', 'mango', 'cherry', 'watermelon', 'banana', 'papaya')\n",
    "print(my_tuples1 [:])"
   ]
  },
  {
   "cell_type": "code",
   "execution_count": 15,
   "id": "316a4304",
   "metadata": {},
   "outputs": [
    {
     "name": "stdout",
     "output_type": "stream",
     "text": [
      "apple\n"
     ]
    }
   ],
   "source": [
    "my_tuples1=('apple', 'mango', 'cherry', 'watermelon', 'banana', 'papaya')\n",
    "print(my_tuples1 [-6])"
   ]
  },
  {
   "cell_type": "code",
   "execution_count": 17,
   "id": "4d6aa1d0",
   "metadata": {},
   "outputs": [
    {
     "name": "stdout",
     "output_type": "stream",
     "text": [
      "('apple', 'cherry', 'banana')\n"
     ]
    }
   ],
   "source": [
    "my_tuples1=('apple', 'mango', 'cherry', 'watermelon', 'banana', 'papaya')\n",
    "print(my_tuples1 [-6:-1:2])"
   ]
  },
  {
   "cell_type": "code",
   "execution_count": 18,
   "id": "62c70ce1",
   "metadata": {},
   "outputs": [
    {
     "name": "stdout",
     "output_type": "stream",
     "text": [
      "<class 'list'>\n"
     ]
    }
   ],
   "source": [
    "my_tuples1=('apple', 'mango', 'cherry', 'watermelon', 'banana', 'papaya')\n",
    "my_list1=list(my_tuples1)\n",
    "print(type(my_list1))\n"
   ]
  },
  {
   "cell_type": "code",
   "execution_count": 29,
   "id": "33149a0f",
   "metadata": {},
   "outputs": [
    {
     "name": "stdout",
     "output_type": "stream",
     "text": [
      "['apple', 'apple', 'apple', 'mango', 'cherry', 'watermelon', 'banana', 'papaya']\n"
     ]
    },
    {
     "ename": "NameError",
     "evalue": "name 'my_list2' is not defined",
     "output_type": "error",
     "traceback": [
      "\u001b[1;31m---------------------------------------------------------------------------\u001b[0m",
      "\u001b[1;31mNameError\u001b[0m                                 Traceback (most recent call last)",
      "\u001b[1;32m<ipython-input-29-8d56d18b7efb>\u001b[0m in \u001b[0;36m<module>\u001b[1;34m\u001b[0m\n\u001b[0;32m      5\u001b[0m \u001b[0mmy_list1\u001b[0m\u001b[1;33m=\u001b[0m\u001b[0mlist\u001b[0m\u001b[1;33m(\u001b[0m\u001b[0mmy_tuples1\u001b[0m\u001b[1;33m)\u001b[0m\u001b[1;33m\u001b[0m\u001b[1;33m\u001b[0m\u001b[0m\n\u001b[0;32m      6\u001b[0m \u001b[0mprint\u001b[0m\u001b[1;33m(\u001b[0m\u001b[0mmy_list1\u001b[0m\u001b[1;33m)\u001b[0m\u001b[1;33m\u001b[0m\u001b[1;33m\u001b[0m\u001b[0m\n\u001b[1;32m----> 7\u001b[1;33m \u001b[0mmy_list2\u001b[0m\u001b[1;33m,\u001b[0m\u001b[0mmy_list1\u001b[0m\u001b[1;33m.\u001b[0m\u001b[0mcount\u001b[0m\u001b[1;33m(\u001b[0m\u001b[1;34m'apple'\u001b[0m\u001b[1;33m)\u001b[0m\u001b[1;33m\u001b[0m\u001b[1;33m\u001b[0m\u001b[0m\n\u001b[0m",
      "\u001b[1;31mNameError\u001b[0m: name 'my_list2' is not defined"
     ]
    }
   ],
   "source": [
    "my_tuples1=('apple','apple','apple', 'mango', 'cherry', 'watermelon', 'banana', 'papaya')\n",
    "my_tuples2=('apple','apple','apple', 'mango', 'cherry', 'watermelon', 'banana', 'papaya')\n",
    "\n",
    "\n",
    "my_list1=list(my_tupl\n",
    "print(my_list1)\n",
    "my_list2,my_list1.count('apple')"
   ]
  },
  {
   "cell_type": "code",
   "execution_count": 30,
   "id": "f2f6b9d5",
   "metadata": {},
   "outputs": [
    {
     "name": "stdout",
     "output_type": "stream",
     "text": [
      "8\n"
     ]
    }
   ],
   "source": [
    "my_tuples2=('apple','apple','apple', 'mango', 'cherry', 'watermelon', 'banana', 'papaya')\n",
    "print(len(my_tuples2))"
   ]
  },
  {
   "cell_type": "code",
   "execution_count": 43,
   "id": "50356db2",
   "metadata": {},
   "outputs": [
    {
     "ename": "NameError",
     "evalue": "name 'reverse' is not defined",
     "output_type": "error",
     "traceback": [
      "\u001b[1;31m---------------------------------------------------------------------------\u001b[0m",
      "\u001b[1;31mNameError\u001b[0m                                 Traceback (most recent call last)",
      "\u001b[1;32m<ipython-input-43-83b867744648>\u001b[0m in \u001b[0;36m<module>\u001b[1;34m\u001b[0m\n\u001b[0;32m      1\u001b[0m \u001b[0mmy_tuples2\u001b[0m\u001b[1;33m=\u001b[0m\u001b[1;33m[\u001b[0m\u001b[1;34m'mango'\u001b[0m\u001b[1;33m,\u001b[0m\u001b[1;34m'apple'\u001b[0m\u001b[1;33m,\u001b[0m \u001b[1;34m'mango'\u001b[0m\u001b[1;33m,\u001b[0m \u001b[1;34m'cherry'\u001b[0m\u001b[1;33m,\u001b[0m \u001b[1;34m'watermelon'\u001b[0m\u001b[1;33m,\u001b[0m \u001b[1;34m'banana'\u001b[0m\u001b[1;33m,\u001b[0m \u001b[1;34m'papaya'\u001b[0m\u001b[1;33m]\u001b[0m\u001b[1;33m\u001b[0m\u001b[1;33m\u001b[0m\u001b[0m\n\u001b[1;32m----> 2\u001b[1;33m \u001b[0mreverse\u001b[0m\u001b[1;33m(\u001b[0m\u001b[0mmy_tuples2\u001b[0m\u001b[1;33m)\u001b[0m\u001b[1;33m\u001b[0m\u001b[1;33m\u001b[0m\u001b[0m\n\u001b[0m",
      "\u001b[1;31mNameError\u001b[0m: name 'reverse' is not defined"
     ]
    }
   ],
   "source": [
    "my_tuples2=['mango','apple', 'mango', 'cherry', 'watermelon', 'banana', 'papaya']\n",
    "reverse(my_tuples2)\n"
   ]
  },
  {
   "cell_type": "code",
   "execution_count": 85,
   "id": "0dc0ffb3",
   "metadata": {},
   "outputs": [
    {
     "data": {
      "text/plain": [
       "{'name': 'nilesh',\n",
       " 'college': 'sanjivani clg',\n",
       " 'branch': 'entc',\n",
       " 'roll no': 15,\n",
       " 'std': 12}"
      ]
     },
     "execution_count": 85,
     "metadata": {},
     "output_type": "execute_result"
    }
   ],
   "source": [
    "map1={'name':'nilesh', 'college': 'sanjivani clg', 'branch': 'entc', 'roll no': 15 }\n",
    "map2= {'std':12}\n",
    "map1.update(map2)\n",
    "map1"
   ]
  },
  {
   "cell_type": "code",
   "execution_count": 78,
   "id": "95be8298",
   "metadata": {},
   "outputs": [
    {
     "ename": "SyntaxError",
     "evalue": "invalid syntax (<ipython-input-78-7912c127a6f8>, line 1)",
     "output_type": "error",
     "traceback": [
      "\u001b[1;36m  File \u001b[1;32m\"<ipython-input-78-7912c127a6f8>\"\u001b[1;36m, line \u001b[1;32m1\u001b[0m\n\u001b[1;33m    map1=['std': 12]\u001b[0m\n\u001b[1;37m               ^\u001b[0m\n\u001b[1;31mSyntaxError\u001b[0m\u001b[1;31m:\u001b[0m invalid syntax\n"
     ]
    }
   ],
   "source": []
  },
  {
   "cell_type": "code",
   "execution_count": null,
   "id": "2af64cf5",
   "metadata": {},
   "outputs": [],
   "source": []
  },
  {
   "cell_type": "code",
   "execution_count": null,
   "id": "12dbe95f",
   "metadata": {},
   "outputs": [],
   "source": []
  }
 ],
 "metadata": {
  "kernelspec": {
   "display_name": "Python 3",
   "language": "python",
   "name": "python3"
  },
  "language_info": {
   "codemirror_mode": {
    "name": "ipython",
    "version": 3
   },
   "file_extension": ".py",
   "mimetype": "text/x-python",
   "name": "python",
   "nbconvert_exporter": "python",
   "pygments_lexer": "ipython3",
   "version": "3.8.8"
  }
 },
 "nbformat": 4,
 "nbformat_minor": 5
}
