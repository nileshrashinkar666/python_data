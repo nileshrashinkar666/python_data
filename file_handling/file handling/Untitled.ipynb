{
 "cells": [
  {
   "cell_type": "code",
   "execution_count": 16,
   "id": "f1a3d37b",
   "metadata": {},
   "outputs": [],
   "source": [
    "text= \"i am nilesh krishna rashinkar\"\n",
    "file=open(\"new.txt\",\"w\")\n",
    "file.write(text)\n",
    "file.close()"
   ]
  },
  {
   "cell_type": "code",
   "execution_count": 21,
   "id": "e05309fd",
   "metadata": {},
   "outputs": [
    {
     "name": "stdout",
     "output_type": "stream",
     "text": [
      "i am nilesh krishna rashinkar\n"
     ]
    }
   ],
   "source": [
    "file=open(\"new.txt\",\"r\")\n",
    "f=file.read()\n",
    "print(f)\n",
    "file.close()"
   ]
  },
  {
   "cell_type": "code",
   "execution_count": 23,
   "id": "9fc91aa3",
   "metadata": {},
   "outputs": [],
   "source": [
    "text= \"\\n i am from aurangabad, pune\"\n",
    "file=open(\"new.txt\",\"a\")\n",
    "file.write(text)\n",
    "file.close()"
   ]
  },
  {
   "cell_type": "code",
   "execution_count": 25,
   "id": "423d6c40",
   "metadata": {},
   "outputs": [],
   "source": [
    "text= \"\\n welcome to data science \\n i love data science batch \\n my class time is at night\"\n",
    "file=open(\"new_1.txt\",\"w\")\n",
    "file.write(text)\n",
    "file.close()"
   ]
  },
  {
   "cell_type": "code",
   "execution_count": 27,
   "id": "d12b2bb3",
   "metadata": {},
   "outputs": [],
   "source": [
    "file= open(\"new2.txt\",\"w\")\n",
    "file.write(\"\\n xyz\")\n",
    "file.write(\"\\n pqr\")\n",
    "file.close()"
   ]
  },
  {
   "cell_type": "code",
   "execution_count": 29,
   "id": "3bb5a665",
   "metadata": {},
   "outputs": [],
   "source": [
    "try:\n",
    "\n",
    "    file= open(\"new2.txt\",\"w\")\n",
    "    file.write(\"\\n xyz\")\n",
    "    file.write(\"\\n pqr\")\n",
    "\n",
    "finally:\n",
    "    file.close()"
   ]
  },
  {
   "cell_type": "code",
   "execution_count": 35,
   "id": "cd61f282",
   "metadata": {},
   "outputs": [
    {
     "name": "stdout",
     "output_type": "stream",
     "text": [
      "\n",
      " xyz\n",
      " pqr\n"
     ]
    }
   ],
   "source": [
    "try:\n",
    "\n",
    "    file= open(\"new2.txt\",\"r\")\n",
    "    w=file.read()\n",
    "    print(w)\n",
    "    \n",
    "finally:\n",
    "    file.close()\n",
    "    "
   ]
  },
  {
   "cell_type": "code",
   "execution_count": 39,
   "id": "7a6a0638",
   "metadata": {},
   "outputs": [
    {
     "name": "stdout",
     "output_type": "stream",
     "text": [
      "\n",
      " xyz\n",
      " pqr\n"
     ]
    }
   ],
   "source": [
    "with open(\"new2.txt\",\"r\")as file:\n",
    "    w =file.read()\n",
    "print(w)"
   ]
  },
  {
   "cell_type": "code",
   "execution_count": 43,
   "id": "7caa0c5e",
   "metadata": {},
   "outputs": [
    {
     "ename": "FileNotFoundError",
     "evalue": "[WinError 2] The system cannot find the file specified: 'new'",
     "output_type": "error",
     "traceback": [
      "\u001b[1;31m---------------------------------------------------------------------------\u001b[0m",
      "\u001b[1;31mFileNotFoundError\u001b[0m                         Traceback (most recent call last)",
      "\u001b[1;32m<ipython-input-43-9d10a411e13d>\u001b[0m in \u001b[0;36m<module>\u001b[1;34m\u001b[0m\n\u001b[0;32m      1\u001b[0m \u001b[1;32mimport\u001b[0m \u001b[0mos\u001b[0m\u001b[1;33m\u001b[0m\u001b[1;33m\u001b[0m\u001b[0m\n\u001b[1;32m----> 2\u001b[1;33m \u001b[0mos\u001b[0m\u001b[1;33m.\u001b[0m\u001b[0mremove\u001b[0m\u001b[1;33m(\u001b[0m\u001b[1;34m\"new\"\u001b[0m\u001b[1;33m)\u001b[0m\u001b[1;33m\u001b[0m\u001b[1;33m\u001b[0m\u001b[0m\n\u001b[0m",
      "\u001b[1;31mFileNotFoundError\u001b[0m: [WinError 2] The system cannot find the file specified: 'new'"
     ]
    }
   ],
   "source": [
    "import os                       #to remove created text file\n",
    "os.remove(\"new\")"
   ]
  },
  {
   "cell_type": "code",
   "execution_count": 44,
   "id": "28ce7f78",
   "metadata": {},
   "outputs": [],
   "source": [
    "text= \"\\n pune\"\n",
    "file=open(\"new.txt\",\"a\")\n",
    "file.write(text)\n",
    "file.close()"
   ]
  },
  {
   "cell_type": "code",
   "execution_count": null,
   "id": "24430dff",
   "metadata": {},
   "outputs": [],
   "source": []
  }
 ],
 "metadata": {
  "kernelspec": {
   "display_name": "Python 3",
   "language": "python",
   "name": "python3"
  },
  "language_info": {
   "codemirror_mode": {
    "name": "ipython",
    "version": 3
   },
   "file_extension": ".py",
   "mimetype": "text/x-python",
   "name": "python",
   "nbconvert_exporter": "python",
   "pygments_lexer": "ipython3",
   "version": "3.8.8"
  }
 },
 "nbformat": 4,
 "nbformat_minor": 5
}
