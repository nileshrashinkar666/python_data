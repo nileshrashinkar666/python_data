{
 "cells": [
  {
   "cell_type": "markdown",
   "id": "a20104e6",
   "metadata": {},
   "source": [
    "# append menthod"
   ]
  },
  {
   "cell_type": "code",
   "execution_count": null,
   "id": "7623d6ae",
   "metadata": {},
   "outputs": [],
   "source": [
    "lst[1,2,3,4,5]\n",
    "print(lst)\n",
    "lst.append[6]\n",
    "print(lst)"
   ]
  },
  {
   "cell_type": "code",
   "execution_count": null,
   "id": "19bb5a6d",
   "metadata": {},
   "outputs": [],
   "source": [
    "my_tuples1 =('mango','cherry','banana')\n",
    "print(my_tuples1)\n",
    "my_tuples1.remove('cherry')\n",
    "print(my_tuples1)"
   ]
  },
  {
   "cell_type": "code",
   "execution_count": null,
   "id": "1c27b762",
   "metadata": {},
   "outputs": [],
   "source": [
    "lst=(1,2,3,4,5)\n",
    "print(lst)\n",
    "lst.remove(4,5)\n",
    "print(lst)"
   ]
  },
  {
   "cell_type": "code",
   "execution_count": 2,
   "id": "dccd6bc3",
   "metadata": {},
   "outputs": [
    {
     "name": "stdout",
     "output_type": "stream",
     "text": [
      "(1, 2, 3, 4, 5)\n"
     ]
    },
    {
     "ename": "AttributeError",
     "evalue": "'tuple' object has no attribute 'remove'",
     "output_type": "error",
     "traceback": [
      "\u001b[1;31m---------------------------------------------------------------------------\u001b[0m",
      "\u001b[1;31mAttributeError\u001b[0m                            Traceback (most recent call last)",
      "\u001b[1;32m<ipython-input-2-6f8078cfb323>\u001b[0m in \u001b[0;36m<module>\u001b[1;34m\u001b[0m\n\u001b[0;32m      1\u001b[0m \u001b[0mlst\u001b[0m\u001b[1;33m=\u001b[0m\u001b[1;33m(\u001b[0m\u001b[1;36m1\u001b[0m\u001b[1;33m,\u001b[0m\u001b[1;36m2\u001b[0m\u001b[1;33m,\u001b[0m\u001b[1;36m3\u001b[0m\u001b[1;33m,\u001b[0m\u001b[1;36m4\u001b[0m\u001b[1;33m,\u001b[0m\u001b[1;36m5\u001b[0m\u001b[1;33m)\u001b[0m\u001b[1;33m\u001b[0m\u001b[1;33m\u001b[0m\u001b[0m\n\u001b[0;32m      2\u001b[0m \u001b[0mprint\u001b[0m\u001b[1;33m(\u001b[0m\u001b[0mlst\u001b[0m\u001b[1;33m)\u001b[0m\u001b[1;33m\u001b[0m\u001b[1;33m\u001b[0m\u001b[0m\n\u001b[1;32m----> 3\u001b[1;33m \u001b[0mlst\u001b[0m\u001b[1;33m.\u001b[0m\u001b[0mremove\u001b[0m\u001b[1;33m(\u001b[0m\u001b[1;36m2\u001b[0m\u001b[1;33m)\u001b[0m\u001b[1;33m\u001b[0m\u001b[1;33m\u001b[0m\u001b[0m\n\u001b[0m\u001b[0;32m      4\u001b[0m \u001b[0mprint\u001b[0m\u001b[1;33m(\u001b[0m\u001b[0mlst\u001b[0m\u001b[1;33m)\u001b[0m\u001b[1;33m\u001b[0m\u001b[1;33m\u001b[0m\u001b[0m\n",
      "\u001b[1;31mAttributeError\u001b[0m: 'tuple' object has no attribute 'remove'"
     ]
    }
   ],
   "source": [
    "lst=(1,2,3,4,5)\n",
    "print(lst)\n",
    "lst.remove(2)\n",
    "print(lst)"
   ]
  },
  {
   "cell_type": "code",
   "execution_count": 3,
   "id": "e9965816",
   "metadata": {},
   "outputs": [
    {
     "name": "stdout",
     "output_type": "stream",
     "text": [
      "nilesh\n",
      "<class 'str'>\n"
     ]
    }
   ],
   "source": [
    "x= 'nilesh'\n",
    "print(x)\n",
    "print(type(x))"
   ]
  },
  {
   "cell_type": "code",
   "execution_count": 15,
   "id": "207b6172",
   "metadata": {},
   "outputs": [
    {
     "name": "stdout",
     "output_type": "stream",
     "text": [
      "[1, 2, 3, 4, 5]\n",
      "[1, 2, 4, 5]\n"
     ]
    }
   ],
   "source": [
    "lst1=[1,2,3,4,5]\n",
    "print(lst1)\n",
    "lst1.pop(2)\n",
    "print(lst1)"
   ]
  },
  {
   "cell_type": "code",
   "execution_count": 14,
   "id": "363532f9",
   "metadata": {},
   "outputs": [
    {
     "name": "stdout",
     "output_type": "stream",
     "text": [
      "('ads', 'euw', 'dve')\n"
     ]
    }
   ],
   "source": [
    "my_tuples1 =('ads', 'add', 'wuer', 'euw', 'efg', 'deh', 'dve')\n",
    "print(my_tuples1[0::3])"
   ]
  },
  {
   "cell_type": "code",
   "execution_count": 11,
   "id": "466a7f67",
   "metadata": {},
   "outputs": [
    {
     "name": "stdout",
     "output_type": "stream",
     "text": [
      "['LG', 'MI', 'Samsung']\n",
      "['MI_A1', 'LG1', 'GALAXY']\n",
      "2021\n",
      "blue\n",
      "1 year\n",
      "yes\n"
     ]
    }
   ],
   "source": [
    "my_dict = {\n",
    "    'brand':['LG','MI','Samsung'],\n",
    "    'model':['MI_A1','LG1','GALAXY'],\n",
    "    'year': 2021,\n",
    "    'color':'blue',\n",
    "    'waranty': '1 year',\n",
    "    'charger': 'yes'\n",
    "}\n",
    "\n",
    "  for x in my_dict.values()\n",
    "        print(my_dict[x])"
   ]
  },
  {
   "cell_type": "code",
   "execution_count": 21,
   "id": "55d7a94c",
   "metadata": {},
   "outputs": [
    {
     "name": "stdout",
     "output_type": "stream",
     "text": [
      "brand : ['LG', 'MI', 'Samsung']\n",
      "model : ['MI_A1', 'LG1', 'GALAXY']\n",
      "year : 2021\n",
      "color : blue\n",
      "waranty : 1 year\n",
      "charger : yes\n"
     ]
    }
   ],
   "source": [
    "my_dict = {\n",
    "    'brand':['LG','MI','Samsung'],\n",
    "    'model':['MI_A1','LG1','GALAXY'],\n",
    "    'year': 2021,\n",
    "    'color':'blue',\n",
    "    'waranty': '1 year',\n",
    "    'charger': 'yes'\n",
    "}\n",
    "for i,j in my_dict.items():\n",
    "    \n",
    " print(i,':',j)"
   ]
  },
  {
   "cell_type": "code",
   "execution_count": 31,
   "id": "ad89c050",
   "metadata": {},
   "outputs": [
    {
     "name": "stdout",
     "output_type": "stream",
     "text": [
      "{'brand': ['LG', 'MI', 'Samsung'], 'model': ['MI_A1', 'LG1', 'GALAXY'], 'year': 2021, 'color': 'blue', 'waranty': '1 year', 'charger': 'yes'}\n"
     ]
    }
   ],
   "source": [
    "my_dict = {\n",
    "    'brand':['LG','MI','Samsung'],\n",
    "    'model':['MI_A1','LG1','GALAXY'],\n",
    "    'year': 2021,\n",
    "    'color':'blue',\n",
    "    'waranty': '1 year',\n",
    "    'charger': 'yes'\n",
    "}\n",
    "new_dict= my_dict.copy()\n",
    "print (new_dict)\n"
   ]
  },
  {
   "cell_type": "code",
   "execution_count": 38,
   "id": "cbfbc2c5",
   "metadata": {},
   "outputs": [
    {
     "name": "stdout",
     "output_type": "stream",
     "text": [
      "{'emp1': {'id': 1, 'name': 'Python', 'post': 'DS', 'salary': 5000}, 'emp2': {'id': 2, 'name': 'Python Data Science', 'post': 'DE', 'salary': 7000}}\n"
     ]
    }
   ],
   "source": [
    "my_company = {\n",
    "    'emp1':{\n",
    "        'id': 1,\n",
    "        'name':'Python',\n",
    "        'post': 'DS',\n",
    "        'salary': 5000\n",
    "    },\n",
    "    'emp2':{\n",
    "       'id': 2,\n",
    "        'name':'Python Data Science',\n",
    "        'post': 'DE',\n",
    "        'salary': 7000 \n",
    "    }\n",
    "}\n",
    "print(my_company)"
   ]
  },
  {
   "cell_type": "code",
   "execution_count": 61,
   "id": "47df1ec5",
   "metadata": {},
   "outputs": [
    {
     "data": {
      "text/plain": [
       "'Python Data Science'"
      ]
     },
     "execution_count": 61,
     "metadata": {},
     "output_type": "execute_result"
    }
   ],
   "source": [
    "(my_company{'emp2']['name'})"
   ]
  },
  {
   "cell_type": "code",
   "execution_count": 71,
   "id": "25b30281",
   "metadata": {},
   "outputs": [
    {
     "ename": "NameError",
     "evalue": "name 'emp1' is not defined",
     "output_type": "error",
     "traceback": [
      "\u001b[1;31m---------------------------------------------------------------------------\u001b[0m",
      "\u001b[1;31mNameError\u001b[0m                                 Traceback (most recent call last)",
      "\u001b[1;32m<ipython-input-71-82a09bfc8351>\u001b[0m in \u001b[0;36m<module>\u001b[1;34m\u001b[0m\n\u001b[1;32m----> 1\u001b[1;33m \u001b[0mprint\u001b[0m \u001b[1;33m[\u001b[0m\u001b[1;34m'my_company'\u001b[0m\u001b[1;33m]\u001b[0m\u001b[1;33m=\u001b[0m \u001b[1;33m(\u001b[0m\u001b[1;33m(\u001b[0m\u001b[0memp1\u001b[0m\u001b[1;33m,\u001b[0m \u001b[0memp2\u001b[0m\u001b[1;33m)\u001b[0m\u001b[1;33m)\u001b[0m\u001b[1;33m\u001b[0m\u001b[1;33m\u001b[0m\u001b[0m\n\u001b[0m",
      "\u001b[1;31mNameError\u001b[0m: name 'emp1' is not defined"
     ]
    }
   ],
   "source": [
    "print ['m"
   ]
  },
  {
   "cell_type": "code",
   "execution_count": null,
   "id": "850762ef",
   "metadata": {},
   "outputs": [],
   "source": []
  }
 ],
 "metadata": {
  "kernelspec": {
   "display_name": "Python 3",
   "language": "python",
   "name": "python3"
  },
  "language_info": {
   "codemirror_mode": {
    "name": "ipython",
    "version": 3
   },
   "file_extension": ".py",
   "mimetype": "text/x-python",
   "name": "python",
   "nbconvert_exporter": "python",
   "pygments_lexer": "ipython3",
   "version": "3.8.8"
  }
 },
 "nbformat": 4,
 "nbformat_minor": 5
}
