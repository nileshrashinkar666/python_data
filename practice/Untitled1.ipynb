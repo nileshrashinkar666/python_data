{
 "cells": [
  {
   "cell_type": "code",
   "execution_count": 6,
   "id": "0ebf994f",
   "metadata": {},
   "outputs": [
    {
     "name": "stdout",
     "output_type": "stream",
     "text": [
      "30.3\n"
     ]
    }
   ],
   "source": [
    "x= ravi\n",
    "y= shyam \n",
    "z= x+y\n",
    "\n",
    "print (z)\n"
   ]
  },
  {
   "cell_type": "code",
   "execution_count": 7,
   "id": "7e83220b",
   "metadata": {},
   "outputs": [
    {
     "name": "stdout",
     "output_type": "stream",
     "text": [
      "<class 'float'>\n"
     ]
    }
   ],
   "source": [
    "print (type (z))"
   ]
  },
  {
   "cell_type": "code",
   "execution_count": null,
   "id": "0292cc59",
   "metadata": {},
   "outputs": [],
   "source": []
  },
  {
   "cell_type": "code",
   "execution_count": 10,
   "id": "42700221",
   "metadata": {},
   "outputs": [
    {
     "name": "stdout",
     "output_type": "stream",
     "text": [
      "nilesh krishna rashinkar\n"
     ]
    }
   ],
   "source": [
    "x= 'nilesh krishna rashinkar'\n",
    "print(x)"
   ]
  },
  {
   "cell_type": "code",
   "execution_count": 24,
   "id": "bdd06527",
   "metadata": {},
   "outputs": [
    {
     "name": "stdout",
     "output_type": "stream",
     "text": [
      "i love (y)\n"
     ]
    }
   ],
   "source": [
    "x = \"gangapur\"\n",
    "y= \"pune\"\n",
    "\n",
    "print (\"i love (y)\")"
   ]
  },
  {
   "cell_type": "code",
   "execution_count": 25,
   "id": "35c60929",
   "metadata": {},
   "outputs": [
    {
     "name": "stdout",
     "output_type": "stream",
     "text": [
      "4\n"
     ]
    }
   ],
   "source": [
    "print(len (y))"
   ]
  },
  {
   "cell_type": "code",
   "execution_count": 28,
   "id": "93958982",
   "metadata": {},
   "outputs": [
    {
     "ename": "SyntaxError",
     "evalue": "invalid syntax (<ipython-input-28-1ba1b3f91233>, line 2)",
     "output_type": "error",
     "traceback": [
      "\u001b[1;36m  File \u001b[1;32m\"<ipython-input-28-1ba1b3f91233>\"\u001b[1;36m, line \u001b[1;32m2\u001b[0m\n\u001b[1;33m    my_order=( my name is nilesh and my age is {})\u001b[0m\n\u001b[1;37m                  ^\u001b[0m\n\u001b[1;31mSyntaxError\u001b[0m\u001b[1;31m:\u001b[0m invalid syntax\n"
     ]
    }
   ],
   "source": [
    "x= {'name': nilesh, 'age' : 25}\n",
    "my_order=( my name is nilesh and my age is {})\n",
    "print(my_order)"
   ]
  },
  {
   "cell_type": "code",
   "execution_count": null,
   "id": "2ea7bd46",
   "metadata": {},
   "outputs": [],
   "source": [
    "quantiy = 5\n",
    "iteno = 540\n",
    "price = 200.50\n",
    "my_order = \"I want {} quantity of item no {} for that item no i want to pay{} Rupees\"\n",
    "print(my_order.format(quantiy, iteno, price))\n",
    "\n",
    "\n"
   ]
  },
  {
   "cell_type": "code",
   "execution_count": 31,
   "id": "913ae0e0",
   "metadata": {},
   "outputs": [
    {
     "name": "stdout",
     "output_type": "stream",
     "text": [
      "i want 5 quantity of no. of player 10 with price 205 and time 20\n"
     ]
    }
   ],
   "source": [
    "quantity = 5\n",
    "player = 10 \n",
    "price= 205\n",
    "time = 20\n",
    "my_order = \"i want {} quantity of no. of player {} with price {} and time {}\"\n",
    "print(my_order.format(quantity, player, price, time))"
   ]
  },
  {
   "cell_type": "code",
   "execution_count": 41,
   "id": "cfe6f3a2",
   "metadata": {},
   "outputs": [
    {
     "name": "stdout",
     "output_type": "stream",
     "text": [
      "my name is 25 and my age is 25\n"
     ]
    }
   ],
   "source": [
    "name= 25\n",
    "age = 25\n",
    "my_order=( \"my name is {} and my age is {}\")\n",
    "print(my_order.format (name, age))"
   ]
  },
  {
   "cell_type": "markdown",
   "id": "3804ad36",
   "metadata": {},
   "source": [
    "# #int to float coversions\n",
    "\n"
   ]
  },
  {
   "cell_type": "code",
   "execution_count": 42,
   "id": "177331c9",
   "metadata": {},
   "outputs": [],
   "source": [
    "a= 12 #int value\n",
    "b= 12.12 #float value\n",
    "c= 1j #complex no.\n"
   ]
  },
  {
   "cell_type": "code",
   "execution_count": 44,
   "id": "4d2ca2ab",
   "metadata": {},
   "outputs": [
    {
     "name": "stdout",
     "output_type": "stream",
     "text": [
      "12.0\n"
     ]
    }
   ],
   "source": [
    "x= float(a)\n",
    "print (x)"
   ]
  },
  {
   "cell_type": "code",
   "execution_count": 45,
   "id": "b8615e15",
   "metadata": {},
   "outputs": [
    {
     "name": "stdout",
     "output_type": "stream",
     "text": [
      "<class 'float'>\n"
     ]
    }
   ],
   "source": [
    "print (type(x))"
   ]
  },
  {
   "cell_type": "code",
   "execution_count": 46,
   "id": "9a0bcc1e",
   "metadata": {},
   "outputs": [
    {
     "name": "stdout",
     "output_type": "stream",
     "text": [
      "12\n"
     ]
    }
   ],
   "source": [
    "y= int(b)\n",
    "print(y)\n"
   ]
  },
  {
   "cell_type": "code",
   "execution_count": 47,
   "id": "b0b89f70",
   "metadata": {},
   "outputs": [
    {
     "name": "stdout",
     "output_type": "stream",
     "text": [
      "<class 'int'>\n"
     ]
    }
   ],
   "source": [
    "print(type(y))"
   ]
  },
  {
   "cell_type": "code",
   "execution_count": 51,
   "id": "c21f410a",
   "metadata": {},
   "outputs": [
    {
     "name": "stdout",
     "output_type": "stream",
     "text": [
      "4\n"
     ]
    }
   ],
   "source": [
    "import random\n",
    "print (random.randrange(1,5))"
   ]
  },
  {
   "cell_type": "code",
   "execution_count": null,
   "id": "4652ed42",
   "metadata": {},
   "outputs": [],
   "source": []
  }
 ],
 "metadata": {
  "kernelspec": {
   "display_name": "Python 3",
   "language": "python",
   "name": "python3"
  },
  "language_info": {
   "codemirror_mode": {
    "name": "ipython",
    "version": 3
   },
   "file_extension": ".py",
   "mimetype": "text/x-python",
   "name": "python",
   "nbconvert_exporter": "python",
   "pygments_lexer": "ipython3",
   "version": "3.8.8"
  }
 },
 "nbformat": 4,
 "nbformat_minor": 5
}
